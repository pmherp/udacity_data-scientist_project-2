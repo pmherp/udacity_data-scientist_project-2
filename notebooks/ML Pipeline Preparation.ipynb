{
 "cells": [
  {
   "cell_type": "markdown",
   "metadata": {},
   "source": [
    "# ML Pipeline Preparation\n",
    "Follow the instructions below to help you create your ML pipeline.\n",
    "### 1. Import libraries and load data from database.\n",
    "- Import Python libraries\n",
    "- Load dataset from database with [`read_sql_table`](https://pandas.pydata.org/pandas-docs/stable/generated/pandas.read_sql_table.html)\n",
    "- Define feature and target variables X and Y"
   ]
  },
  {
   "cell_type": "code",
   "execution_count": 325,
   "metadata": {},
   "outputs": [
    {
     "output_type": "stream",
     "name": "stderr",
     "text": [
      "[nltk_data] Downloading package punkt to\n[nltk_data]     /Users/philipherp/nltk_data...\n[nltk_data]   Package punkt is already up-to-date!\n[nltk_data] Downloading package wordnet to\n[nltk_data]     /Users/philipherp/nltk_data...\n[nltk_data]   Package wordnet is already up-to-date!\n"
     ]
    }
   ],
   "source": [
    "# import libraries\n",
    "#for wrangling\n",
    "import pandas as pd \n",
    "import numpy as np\n",
    "from sqlalchemy import create_engine\n",
    "#for regular expressions\n",
    "import re\n",
    "#for natural language processing\n",
    "import nltk\n",
    "from nltk.tokenize import word_tokenize\n",
    "from nltk.stem import WordNetLemmatizer\n",
    "nltk.download(['punkt', 'wordnet'])\n",
    "#for modelling\n",
    "from sklearn.feature_extraction.text import CountVectorizer, TfidfTransformer\n",
    "from sklearn.pipeline import Pipeline, FeatureUnion\n",
    "from sklearn.model_selection import train_test_split, GridSearchCV\n",
    "from sklearn.multioutput import MultiOutputClassifier\n",
    "from sklearn.linear_model import SGDClassifier\n",
    "from sklearn.metrics import confusion_matrix\n",
    "from sklearn.base import BaseEstimator, TransformerMixin\n",
    "from sklearn.metrics import classification_report\n",
    "\n",
    "\n",
    "from sklearn.ensemble import RandomForestClassifier\n"
   ]
  },
  {
   "cell_type": "code",
   "execution_count": 351,
   "metadata": {},
   "outputs": [],
   "source": [
    "# load data from database\n",
    "engine = create_engine('sqlite:///DisasterResponse.db')\n",
    "df = pd.read_sql_table('messages_final', engine)\n",
    "#as specified in part 3\n",
    "X = df['message'].values\n",
    "Y = df.iloc[:,4:].values\n",
    "cat = df.iloc[:, 4:].columns"
   ]
  },
  {
   "cell_type": "code",
   "execution_count": 352,
   "metadata": {},
   "outputs": [
    {
     "output_type": "stream",
     "name": "stdout",
     "text": [
      "x shape:  (26216,)\ny shape:  (26216, 36)\n"
     ]
    }
   ],
   "source": [
    "print('x shape: ', X.shape)\n",
    "print('y shape: ', Y.shape)"
   ]
  },
  {
   "cell_type": "code",
   "execution_count": 278,
   "metadata": {},
   "outputs": [
    {
     "output_type": "execute_result",
     "data": {
      "text/plain": [
       "   id                                            message  \\\n",
       "0   2  Weather update - a cold front from Cuba that c...   \n",
       "1   7            Is the Hurricane over or is it not over   \n",
       "\n",
       "                                            original   genre  related  \\\n",
       "0  Un front froid se retrouve sur Cuba ce matin. ...  direct        1   \n",
       "1                 Cyclone nan fini osinon li pa fini  direct        1   \n",
       "\n",
       "   request  offer  aid_related  medical_help  medical_products  ...  \\\n",
       "0        0      0            0             0                 0  ...   \n",
       "1        0      0            1             0                 0  ...   \n",
       "\n",
       "   aid_centers  other_infrastructure  weather_related  floods  storm  fire  \\\n",
       "0            0                     0                0       0      0     0   \n",
       "1            0                     0                1       0      1     0   \n",
       "\n",
       "   earthquake  cold  other_weather  direct_report  \n",
       "0           0     0              0              0  \n",
       "1           0     0              0              0  \n",
       "\n",
       "[2 rows x 40 columns]"
      ],
      "text/html": "<div>\n<style scoped>\n    .dataframe tbody tr th:only-of-type {\n        vertical-align: middle;\n    }\n\n    .dataframe tbody tr th {\n        vertical-align: top;\n    }\n\n    .dataframe thead th {\n        text-align: right;\n    }\n</style>\n<table border=\"1\" class=\"dataframe\">\n  <thead>\n    <tr style=\"text-align: right;\">\n      <th></th>\n      <th>id</th>\n      <th>message</th>\n      <th>original</th>\n      <th>genre</th>\n      <th>related</th>\n      <th>request</th>\n      <th>offer</th>\n      <th>aid_related</th>\n      <th>medical_help</th>\n      <th>medical_products</th>\n      <th>...</th>\n      <th>aid_centers</th>\n      <th>other_infrastructure</th>\n      <th>weather_related</th>\n      <th>floods</th>\n      <th>storm</th>\n      <th>fire</th>\n      <th>earthquake</th>\n      <th>cold</th>\n      <th>other_weather</th>\n      <th>direct_report</th>\n    </tr>\n  </thead>\n  <tbody>\n    <tr>\n      <th>0</th>\n      <td>2</td>\n      <td>Weather update - a cold front from Cuba that c...</td>\n      <td>Un front froid se retrouve sur Cuba ce matin. ...</td>\n      <td>direct</td>\n      <td>1</td>\n      <td>0</td>\n      <td>0</td>\n      <td>0</td>\n      <td>0</td>\n      <td>0</td>\n      <td>...</td>\n      <td>0</td>\n      <td>0</td>\n      <td>0</td>\n      <td>0</td>\n      <td>0</td>\n      <td>0</td>\n      <td>0</td>\n      <td>0</td>\n      <td>0</td>\n      <td>0</td>\n    </tr>\n    <tr>\n      <th>1</th>\n      <td>7</td>\n      <td>Is the Hurricane over or is it not over</td>\n      <td>Cyclone nan fini osinon li pa fini</td>\n      <td>direct</td>\n      <td>1</td>\n      <td>0</td>\n      <td>0</td>\n      <td>1</td>\n      <td>0</td>\n      <td>0</td>\n      <td>...</td>\n      <td>0</td>\n      <td>0</td>\n      <td>1</td>\n      <td>0</td>\n      <td>1</td>\n      <td>0</td>\n      <td>0</td>\n      <td>0</td>\n      <td>0</td>\n      <td>0</td>\n    </tr>\n  </tbody>\n</table>\n<p>2 rows × 40 columns</p>\n</div>"
     },
     "metadata": {},
     "execution_count": 278
    }
   ],
   "source": [
    "df.head(2)"
   ]
  },
  {
   "cell_type": "markdown",
   "metadata": {},
   "source": [
    "### 2. Write a tokenization function to process your text data"
   ]
  },
  {
   "cell_type": "code",
   "execution_count": 269,
   "metadata": {},
   "outputs": [],
   "source": [
    "def tokenize(text):\n",
    "    \"\"\"\n",
    "    Normalizes text: Removes punctuation, tokenizes text, cleans tokens, makes al lowercase and removes spaces, lematizes tokens\n",
    "    Args:\n",
    "        - text: for countVectorizer from sklearn (Convert a collection of text documents to a matrix of token counts)\n",
    "    Returns:\n",
    "        - clean_tokens\n",
    "    \"\"\"\n",
    "    # remove punctuation characters\n",
    "    text = re.sub(r\"[^A-Za-z0-9\\-]\", \" \", text)\n",
    "    \n",
    "    #creates tokens\n",
    "    tokens = word_tokenize(text)\n",
    "    \n",
    "    #convert token to meaningful base form\n",
    "    lemmatizer = WordNetLemmatizer()\n",
    "\n",
    "    clean_tokens = []\n",
    "    for tok in tokens:\n",
    "        #actually lemmatize, make all lowercase, remove space and append\n",
    "        clean_tok = lemmatizer.lemmatize(tok).lower().strip()\n",
    "        clean_tokens.append(clean_tok)\n",
    "\n",
    "    return clean_tokens"
   ]
  },
  {
   "cell_type": "markdown",
   "metadata": {},
   "source": [
    "### 3. Build a machine learning pipeline\n",
    "This machine pipeline should take in the `message` column as input and output classification results on the other 36 categories in the dataset. You may find the [MultiOutputClassifier](http://scikit-learn.org/stable/modules/generated/sklearn.multioutput.MultiOutputClassifier.html) helpful for predicting multiple target variables."
   ]
  },
  {
   "source": [
    "#choosing the right estimator\n",
    "#https://scikit-learn.org/stable/tutorial/machine_learning_map/index.html"
   ],
   "cell_type": "code",
   "metadata": {},
   "execution_count": null,
   "outputs": []
  },
  {
   "cell_type": "code",
   "execution_count": 360,
   "metadata": {},
   "outputs": [],
   "source": [
    "#build pipeline\n",
    "pipeline = Pipeline([\n",
    "    ('text_pipeline', Pipeline([\n",
    "        ('vect', CountVectorizer(tokenizer=tokenize)),\n",
    "        ('tfidf', TfidfTransformer())\n",
    "    ])),\n",
    "    ('clf', MultiOutputClassifier(RandomForestClassifier()))    \n",
    "])\n",
    "\n",
    "#SGDClassifier(loss=\"hinge\", penalty=\"l2\", max_iter=5): error with, for only one class??\n",
    "#RandomForestClassifier(): works, but painfully slow"
   ]
  },
  {
   "cell_type": "markdown",
   "metadata": {},
   "source": [
    "### 4. Train pipeline\n",
    "- Split data into train and test sets\n",
    "- Train pipeline"
   ]
  },
  {
   "cell_type": "code",
   "execution_count": 361,
   "metadata": {},
   "outputs": [
    {
     "output_type": "execute_result",
     "data": {
      "text/plain": [
       "Pipeline(steps=[('text_pipeline',\n",
       "                 Pipeline(steps=[('vect',\n",
       "                                  CountVectorizer(tokenizer=<function tokenize at 0x7fc881280a70>)),\n",
       "                                 ('tfidf', TfidfTransformer())])),\n",
       "                ('clf',\n",
       "                 MultiOutputClassifier(estimator=RandomForestClassifier()))])"
      ]
     },
     "metadata": {},
     "execution_count": 361
    }
   ],
   "source": [
    "#split data\n",
    "X_train, X_test, y_train, y_test = train_test_split(X, Y, test_size=0.33, random_state=42)\n",
    "\n",
    "#train pipeline\n",
    "pipeline.fit(X_train, y_train)"
   ]
  },
  {
   "source": [
    "### 5. Test your model\n",
    "Report the f1 score, precision and recall for each output category of the dataset. You can do this by iterating through the columns and calling sklearn's `classification_report` on each."
   ],
   "cell_type": "markdown",
   "metadata": {}
  },
  {
   "cell_type": "code",
   "execution_count": 367,
   "metadata": {},
   "outputs": [],
   "source": [
    "#predict on test data (X_test)\n",
    "y_pred = pipeline.predict(X_test)"
   ]
  },
  {
   "cell_type": "code",
   "execution_count": 461,
   "metadata": {},
   "outputs": [],
   "source": [
    "target_names = ['related', 'request', 'offer', 'aid_related', 'medical_help',\n",
    " 'medical_products', 'search_and_rescue', 'security', 'military',\n",
    " 'child_alone', 'water', 'food', 'shelter', 'clothing', 'money',\n",
    " 'missing_people', 'refugees', 'death', 'other_aid', 'infrastructure_related',\n",
    " 'transport', 'buildings', 'electricity', 'tools', 'hospitals', 'shops',\n",
    " 'aid_centers', 'other_infrastructure', 'weather_related', 'floods', 'storm',\n",
    " 'fire', 'earthquake', 'cold', 'other_weather', 'direct_report']\n"
   ]
  },
  {
   "cell_type": "code",
   "execution_count": 460,
   "metadata": {
    "tags": []
   },
   "outputs": [
    {
     "output_type": "stream",
     "name": "stdout",
     "text": [
      "              precision    recall  f1-score   support\n",
      "\n",
      "           0       0.72      0.26      0.39      2054\n",
      "           1       0.80      0.97      0.88      6534\n",
      "           2       0.54      0.30      0.38        64\n",
      "\n",
      "    accuracy                           0.79      8652\n",
      "   macro avg       0.69      0.51      0.55      8652\n",
      "weighted avg       0.78      0.79      0.76      8652\n",
      "\n",
      "              precision    recall  f1-score   support\n",
      "\n",
      "           0       0.89      0.99      0.94      7180\n",
      "           1       0.90      0.42      0.57      1472\n",
      "\n",
      "    accuracy                           0.89      8652\n",
      "   macro avg       0.90      0.71      0.76      8652\n",
      "weighted avg       0.89      0.89      0.88      8652\n",
      "\n",
      "              precision    recall  f1-score   support\n",
      "\n",
      "           0       1.00      1.00      1.00      8614\n",
      "           1       0.00      0.00      0.00        38\n",
      "\n",
      "    accuracy                           1.00      8652\n",
      "   macro avg       0.50      0.50      0.50      8652\n",
      "weighted avg       0.99      1.00      0.99      8652\n",
      "\n",
      "              precision    recall  f1-score   support\n",
      "\n",
      "           0       0.77      0.88      0.82      5107\n",
      "           1       0.78      0.61      0.69      3545\n",
      "\n",
      "    accuracy                           0.77      8652\n",
      "   macro avg       0.77      0.75      0.75      8652\n",
      "weighted avg       0.77      0.77      0.77      8652\n",
      "\n",
      "              precision    recall  f1-score   support\n",
      "\n",
      "           0       0.92      1.00      0.96      7951\n",
      "           1       0.76      0.05      0.10       701\n",
      "\n",
      "    accuracy                           0.92      8652\n",
      "   macro avg       0.84      0.53      0.53      8652\n",
      "weighted avg       0.91      0.92      0.89      8652\n",
      "\n",
      "              precision    recall  f1-score   support\n",
      "\n",
      "           0       0.95      1.00      0.97      8206\n",
      "           1       0.84      0.06      0.11       446\n",
      "\n",
      "    accuracy                           0.95      8652\n",
      "   macro avg       0.89      0.53      0.54      8652\n",
      "weighted avg       0.95      0.95      0.93      8652\n",
      "\n",
      "              precision    recall  f1-score   support\n",
      "\n",
      "           0       0.97      1.00      0.99      8426\n",
      "           1       0.73      0.04      0.07       226\n",
      "\n",
      "    accuracy                           0.97      8652\n",
      "   macro avg       0.85      0.52      0.53      8652\n",
      "weighted avg       0.97      0.97      0.96      8652\n",
      "\n",
      "              precision    recall  f1-score   support\n",
      "\n",
      "           0       0.98      1.00      0.99      8492\n",
      "           1       0.00      0.00      0.00       160\n",
      "\n",
      "    accuracy                           0.98      8652\n",
      "   macro avg       0.49      0.50      0.50      8652\n",
      "weighted avg       0.96      0.98      0.97      8652\n",
      "\n",
      "              precision    recall  f1-score   support\n",
      "\n",
      "           0       0.97      1.00      0.98      8385\n",
      "           1       0.61      0.05      0.10       267\n",
      "\n",
      "    accuracy                           0.97      8652\n",
      "   macro avg       0.79      0.53      0.54      8652\n",
      "weighted avg       0.96      0.97      0.96      8652\n",
      "\n",
      "              precision    recall  f1-score   support\n",
      "\n",
      "           0       1.00      1.00      1.00      8652\n",
      "\n",
      "    accuracy                           1.00      8652\n",
      "   macro avg       1.00      1.00      1.00      8652\n",
      "weighted avg       1.00      1.00      1.00      8652\n",
      "\n",
      "              precision    recall  f1-score   support\n",
      "\n",
      "           0       0.95      1.00      0.97      8109\n",
      "           1       0.86      0.24      0.38       543\n",
      "\n",
      "    accuracy                           0.95      8652\n",
      "   macro avg       0.90      0.62      0.68      8652\n",
      "weighted avg       0.95      0.95      0.94      8652\n",
      "\n",
      "              precision    recall  f1-score   support\n",
      "\n",
      "           0       0.94      0.99      0.96      7687\n",
      "           1       0.87      0.46      0.60       965\n",
      "\n",
      "    accuracy                           0.93      8652\n",
      "   macro avg       0.91      0.72      0.78      8652\n",
      "weighted avg       0.93      0.93      0.92      8652\n",
      "\n",
      "              precision    recall  f1-score   support\n",
      "\n",
      "           0       0.93      1.00      0.96      7877\n",
      "           1       0.82      0.23      0.36       775\n",
      "\n",
      "    accuracy                           0.93      8652\n",
      "   macro avg       0.87      0.61      0.66      8652\n",
      "weighted avg       0.92      0.93      0.91      8652\n",
      "\n",
      "              precision    recall  f1-score   support\n",
      "\n",
      "           0       0.99      1.00      0.99      8525\n",
      "           1       0.75      0.05      0.09       127\n",
      "\n",
      "    accuracy                           0.99      8652\n",
      "   macro avg       0.87      0.52      0.54      8652\n",
      "weighted avg       0.98      0.99      0.98      8652\n",
      "\n",
      "              precision    recall  f1-score   support\n",
      "\n",
      "           0       0.98      1.00      0.99      8461\n",
      "           1       0.88      0.04      0.07       191\n",
      "\n",
      "    accuracy                           0.98      8652\n",
      "   macro avg       0.93      0.52      0.53      8652\n",
      "weighted avg       0.98      0.98      0.97      8652\n",
      "\n",
      "              precision    recall  f1-score   support\n",
      "\n",
      "           0       0.99      1.00      0.99      8548\n",
      "           1       0.00      0.00      0.00       104\n",
      "\n",
      "    accuracy                           0.99      8652\n",
      "   macro avg       0.49      0.50      0.50      8652\n",
      "weighted avg       0.98      0.99      0.98      8652\n",
      "\n",
      "              precision    recall  f1-score   support\n",
      "\n",
      "           0       0.97      1.00      0.98      8359\n",
      "           1       0.50      0.01      0.02       293\n",
      "\n",
      "    accuracy                           0.97      8652\n",
      "   macro avg       0.73      0.50      0.50      8652\n",
      "weighted avg       0.95      0.97      0.95      8652\n",
      "\n",
      "              precision    recall  f1-score   support\n",
      "\n",
      "           0       0.96      1.00      0.98      8246\n",
      "           1       0.89      0.10      0.18       406\n",
      "\n",
      "    accuracy                           0.96      8652\n",
      "   macro avg       0.92      0.55      0.58      8652\n",
      "weighted avg       0.95      0.96      0.94      8652\n",
      "\n",
      "              precision    recall  f1-score   support\n",
      "\n",
      "           0       0.87      1.00      0.93      7513\n",
      "           1       0.55      0.01      0.03      1139\n",
      "\n",
      "    accuracy                           0.87      8652\n",
      "   macro avg       0.71      0.51      0.48      8652\n",
      "weighted avg       0.83      0.87      0.81      8652\n",
      "\n",
      "              precision    recall  f1-score   support\n",
      "\n",
      "           0       0.93      1.00      0.97      8084\n",
      "           1       1.00      0.00      0.00       568\n",
      "\n",
      "    accuracy                           0.93      8652\n",
      "   macro avg       0.97      0.50      0.48      8652\n",
      "weighted avg       0.94      0.93      0.90      8652\n",
      "\n",
      "              precision    recall  f1-score   support\n",
      "\n",
      "           0       0.96      1.00      0.98      8245\n",
      "           1       0.82      0.07      0.12       407\n",
      "\n",
      "    accuracy                           0.96      8652\n",
      "   macro avg       0.89      0.53      0.55      8652\n",
      "weighted avg       0.95      0.96      0.94      8652\n",
      "\n",
      "              precision    recall  f1-score   support\n",
      "\n",
      "           0       0.95      1.00      0.97      8211\n",
      "           1       0.77      0.05      0.10       441\n",
      "\n",
      "    accuracy                           0.95      8652\n",
      "   macro avg       0.86      0.53      0.54      8652\n",
      "weighted avg       0.94      0.95      0.93      8652\n",
      "\n",
      "              precision    recall  f1-score   support\n",
      "\n",
      "           0       0.98      1.00      0.99      8467\n",
      "           1       0.78      0.04      0.07       185\n",
      "\n",
      "    accuracy                           0.98      8652\n",
      "   macro avg       0.88      0.52      0.53      8652\n",
      "weighted avg       0.98      0.98      0.97      8652\n",
      "\n",
      "              precision    recall  f1-score   support\n",
      "\n",
      "           0       0.99      1.00      1.00      8599\n",
      "           1       0.00      0.00      0.00        53\n",
      "\n",
      "    accuracy                           0.99      8652\n",
      "   macro avg       0.50      0.50      0.50      8652\n",
      "weighted avg       0.99      0.99      0.99      8652\n",
      "\n",
      "              precision    recall  f1-score   support\n",
      "\n",
      "           0       0.99      1.00      1.00      8567\n",
      "           1       0.00      0.00      0.00        85\n",
      "\n",
      "    accuracy                           0.99      8652\n",
      "   macro avg       0.50      0.50      0.50      8652\n",
      "weighted avg       0.98      0.99      0.99      8652\n",
      "\n",
      "              precision    recall  f1-score   support\n",
      "\n",
      "           0       1.00      1.00      1.00      8618\n",
      "           1       0.00      0.00      0.00        34\n",
      "\n",
      "    accuracy                           1.00      8652\n",
      "   macro avg       0.50      0.50      0.50      8652\n",
      "weighted avg       0.99      1.00      0.99      8652\n",
      "\n",
      "              precision    recall  f1-score   support\n",
      "\n",
      "           0       0.99      1.00      0.99      8537\n",
      "           1       0.00      0.00      0.00       115\n",
      "\n",
      "    accuracy                           0.99      8652\n",
      "   macro avg       0.49      0.50      0.50      8652\n",
      "weighted avg       0.97      0.99      0.98      8652\n",
      "\n",
      "              precision    recall  f1-score   support\n",
      "\n",
      "           0       0.96      1.00      0.98      8269\n",
      "           1       0.00      0.00      0.00       383\n",
      "\n",
      "    accuracy                           0.96      8652\n",
      "   macro avg       0.48      0.50      0.49      8652\n",
      "weighted avg       0.91      0.96      0.93      8652\n",
      "\n",
      "              precision    recall  f1-score   support\n",
      "\n",
      "           0       0.87      0.96      0.91      6262\n",
      "           1       0.86      0.63      0.72      2390\n",
      "\n",
      "    accuracy                           0.87      8652\n",
      "   macro avg       0.86      0.79      0.82      8652\n",
      "weighted avg       0.87      0.87      0.86      8652\n",
      "\n",
      "              precision    recall  f1-score   support\n",
      "\n",
      "           0       0.95      1.00      0.97      7959\n",
      "           1       0.89      0.40      0.56       693\n",
      "\n",
      "    accuracy                           0.95      8652\n",
      "   macro avg       0.92      0.70      0.76      8652\n",
      "weighted avg       0.95      0.95      0.94      8652\n",
      "\n",
      "              precision    recall  f1-score   support\n",
      "\n",
      "           0       0.95      0.99      0.97      7840\n",
      "           1       0.76      0.46      0.57       812\n",
      "\n",
      "    accuracy                           0.94      8652\n",
      "   macro avg       0.86      0.72      0.77      8652\n",
      "weighted avg       0.93      0.94      0.93      8652\n",
      "\n",
      "              precision    recall  f1-score   support\n",
      "\n",
      "           0       0.99      1.00      0.99      8562\n",
      "           1       0.00      0.00      0.00        90\n",
      "\n",
      "    accuracy                           0.99      8652\n",
      "   macro avg       0.49      0.50      0.50      8652\n",
      "weighted avg       0.98      0.99      0.98      8652\n",
      "\n",
      "              precision    recall  f1-score   support\n",
      "\n",
      "           0       0.98      0.99      0.98      7865\n",
      "           1       0.88      0.75      0.81       787\n",
      "\n",
      "    accuracy                           0.97      8652\n",
      "   macro avg       0.93      0.87      0.89      8652\n",
      "weighted avg       0.97      0.97      0.97      8652\n",
      "\n",
      "              precision    recall  f1-score   support\n",
      "\n",
      "           0       0.98      1.00      0.99      8465\n",
      "           1       0.83      0.05      0.10       187\n",
      "\n",
      "    accuracy                           0.98      8652\n",
      "   macro avg       0.91      0.53      0.55      8652\n",
      "weighted avg       0.98      0.98      0.97      8652\n",
      "\n",
      "              precision    recall  f1-score   support\n",
      "\n",
      "           0       0.95      1.00      0.97      8200\n",
      "           1       1.00      0.01      0.03       452\n",
      "\n",
      "    accuracy                           0.95      8652\n",
      "   macro avg       0.97      0.51      0.50      8652\n",
      "weighted avg       0.95      0.95      0.92      8652\n",
      "\n",
      "              precision    recall  f1-score   support\n",
      "\n",
      "           0       0.86      0.98      0.92      6958\n",
      "           1       0.84      0.33      0.48      1694\n",
      "\n",
      "    accuracy                           0.86      8652\n",
      "   macro avg       0.85      0.66      0.70      8652\n",
      "weighted avg       0.86      0.86      0.83      8652\n",
      "\n"
     ]
    }
   ],
   "source": [
    "#print f1 score, precision\n",
    "labels=np.array(list(cat))\n",
    "target_names=list(cat)\n",
    "                \n",
    "for i in range(len(cat)):\n",
    "    print(classification_report(y_test[:, i], y_pred[:, i]))"
   ]
  },
  {
   "cell_type": "markdown",
   "metadata": {},
   "source": [
    "### 6. Improve your model\n",
    "Use grid search to find better parameters. "
   ]
  },
  {
   "cell_type": "code",
   "execution_count": null,
   "metadata": {},
   "outputs": [],
   "source": [
    "parameters = \n",
    "\n",
    "cv = "
   ]
  },
  {
   "cell_type": "markdown",
   "metadata": {},
   "source": [
    "### 7. Test your model\n",
    "Show the accuracy, precision, and recall of the tuned model.  \n",
    "\n",
    "Since this project focuses on code quality, process, and  pipelines, there is no minimum performance metric needed to pass. However, make sure to fine tune your models for accuracy, precision and recall to make your project stand out - especially for your portfolio!"
   ]
  },
  {
   "cell_type": "code",
   "execution_count": null,
   "metadata": {},
   "outputs": [],
   "source": []
  },
  {
   "cell_type": "markdown",
   "metadata": {},
   "source": [
    "### 8. Try improving your model further. Here are a few ideas:\n",
    "* try other machine learning algorithms\n",
    "* add other features besides the TF-IDF"
   ]
  },
  {
   "cell_type": "code",
   "execution_count": null,
   "metadata": {},
   "outputs": [],
   "source": []
  },
  {
   "cell_type": "markdown",
   "metadata": {},
   "source": [
    "### 9. Export your model as a pickle file"
   ]
  },
  {
   "cell_type": "code",
   "execution_count": null,
   "metadata": {},
   "outputs": [],
   "source": []
  },
  {
   "cell_type": "markdown",
   "metadata": {},
   "source": [
    "### 10. Use this notebook to complete `train.py`\n",
    "Use the template file attached in the Resources folder to write a script that runs the steps above to create a database and export a model based on a new dataset specified by the user."
   ]
  },
  {
   "cell_type": "code",
   "execution_count": null,
   "metadata": {},
   "outputs": [],
   "source": []
  }
 ],
 "metadata": {
  "kernelspec": {
   "display_name": "Python 3",
   "language": "python",
   "name": "python3"
  },
  "language_info": {
   "codemirror_mode": {
    "name": "ipython",
    "version": 3
   },
   "file_extension": ".py",
   "mimetype": "text/x-python",
   "name": "python",
   "nbconvert_exporter": "python",
   "pygments_lexer": "ipython3",
   "version": "3.7.6-final"
  }
 },
 "nbformat": 4,
 "nbformat_minor": 2
}